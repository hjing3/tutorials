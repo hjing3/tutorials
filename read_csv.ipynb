{
 "cells": [
  {
   "cell_type": "code",
   "execution_count": null,
   "metadata": {
    "collapsed": false
   },
   "outputs": [],
   "source": [
    "import sys\n",
    "import csv\n",
    "maxInt = sys.maxsize\n",
    "decrement = True\n",
    "\n",
    "while decrement:\n",
    "    # decrease the maxInt value by factor 10 \n",
    "    # as long as the OverflowError occurs.\n",
    "    decrement = False\n",
    "    try:\n",
    "        csv.field_size_limit(maxInt)\n",
    "    except OverflowError:\n",
    "        maxInt = int(maxInt/10)\n",
    "        decrement = True\n",
    "        \n",
    "def unfussy_reader(csv_reader):\n",
    "    while True:\n",
    "        try:\n",
    "            yield next(csv_reader)\n",
    "        except csv.Error:\n",
    "            # log the problem or whatever\n",
    "            print(\"Problem with some row\")\n",
    "            continue\n",
    "\n",
    "csv_file_path = 'documents.csv'\n",
    "with open(csv_file_path) as csvfile:\n",
    "    reader = unfussy_reader(csv.reader(csvfile, delimiter=',', quotechar='\"'))\n",
    "    for row in reader:\n",
    "        print(row)"
   ]
  }
 ],
 "metadata": {
  "kernelspec": {
   "display_name": "Python 3",
   "language": "python",
   "name": "python3"
  },
  "language_info": {
   "codemirror_mode": {
    "name": "ipython",
    "version": 3
   },
   "file_extension": ".py",
   "mimetype": "text/x-python",
   "name": "python",
   "nbconvert_exporter": "python",
   "pygments_lexer": "ipython3",
   "version": "3.5.2"
  }
 },
 "nbformat": 4,
 "nbformat_minor": 2
}
