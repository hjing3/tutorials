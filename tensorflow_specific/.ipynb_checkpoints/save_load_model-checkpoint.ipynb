{
 "cells": [
  {
   "cell_type": "code",
   "execution_count": 1,
   "metadata": {
    "collapsed": true
   },
   "outputs": [],
   "source": [
    "import tensorflow as tf\n",
    "import numpy as np\n",
    "\n",
    "def generate_sample_data(num_data):\n",
    "    X = np.random.rand(num_data, 1)\n",
    "    Y = X * 2 + np.random.normal(3, .1, [num_data,1])\n",
    "    return X, Y"
   ]
  },
  {
   "cell_type": "code",
   "execution_count": 2,
   "metadata": {
    "collapsed": true
   },
   "outputs": [],
   "source": [
    "train_X, train_Y = generate_sample_data(30)\n",
    "test_X, test_Y = generate_sample_data(10)"
   ]
  },
  {
   "cell_type": "markdown",
   "metadata": {},
   "source": [
    "# Train and save model"
   ]
  },
  {
   "cell_type": "code",
   "execution_count": 3,
   "metadata": {
    "collapsed": false,
    "scrolled": true
   },
   "outputs": [
    {
     "name": "stdout",
     "output_type": "stream",
     "text": [
      "Epoch=0, cost-tr=4.257, cost-te=4.321, W=1.609, b=1.128\n",
      "Epoch=3, cost-tr=1.056, cost-te=0.959, W=2.213, b=1.888\n",
      "Epoch=6, cost-tr=0.364, cost-te=0.281, W=2.457, b=2.224\n",
      "Epoch=9, cost-tr=0.166, cost-te=0.110, W=2.567, b=2.408\n",
      "Optimization done\n",
      "Testing cost: 0.110, with w=2.567, b=2.408\n",
      "Model saved in file: ./saved_models/linear_regression\n"
     ]
    }
   ],
   "source": [
    "X = tf.placeholder(tf.float32, name='X')\n",
    "Y = tf.placeholder(tf.float32, name='Y')\n",
    "\n",
    "W = tf.Variable(np.random.randn(), dtype=tf.float32, name='weight')\n",
    "b = tf.Variable(np.random.randn(), dtype=tf.float32, name='bias')\n",
    "\n",
    "another_variable = tf.Variable(np.random.randn(), name='another_var')\n",
    "\n",
    "pred = tf.add(tf.multiply(X, W), b)\n",
    "cost = tf.reduce_mean(tf.pow(pred-Y, 2), name='cost')\n",
    "optimizer = tf.train.AdagradOptimizer(learning_rate=0.1).minimize(cost)\n",
    "\n",
    "init = tf.global_variables_initializer()\n",
    "\n",
    "n_epoches = 10\n",
    "display_epoch = 3\n",
    "with tf.Session() as sess:\n",
    "    sess.run(init)\n",
    "    \n",
    "    for epoch in range(n_epoches):\n",
    "        for (x, y) in zip(train_X, train_Y):\n",
    "            sess.run(optimizer, feed_dict={X: x, Y:y})\n",
    "        if (epoch) % display_epoch == 0:\n",
    "            c_tr = sess.run(cost, feed_dict={X: train_X, Y:train_Y})\n",
    "            c_te = sess.run(cost, feed_dict={X: test_X, Y:test_Y})\n",
    "            print(\"Epoch={}, cost-tr={:.3f}, cost-te={:.3f}, W={:.3f}, b={:.3f}\".format(epoch, c_tr, c_te, W.eval(), b.eval()))\n",
    "\n",
    "    print(\"Optimization done\")\n",
    "    testing_cost = sess.run(cost, feed_dict={X: test_X, Y: test_Y})\n",
    "    print(\"Testing cost: {:.3f}, with w={:.3f}, b={:.3f}\".format(testing_cost, W.eval(), b.eval()))\n",
    "    \n",
    "    # save model\n",
    "    saver = tf.train.Saver()\n",
    "    save_path = saver.save(sess, './saved_models/linear_regression')\n",
    "    print(\"Model saved in file: %s\" % save_path)"
   ]
  },
  {
   "cell_type": "markdown",
   "metadata": {},
   "source": [
    "# Clear environment and load model\n",
    "# Restart the kernel first"
   ]
  },
  {
   "cell_type": "code",
   "execution_count": 1,
   "metadata": {
    "collapsed": true
   },
   "outputs": [],
   "source": [
    "import tensorflow as tf\n",
    "import numpy as np\n",
    "\n",
    "def generate_sample_data(num_data):\n",
    "    X = np.random.rand(num_data, 1)\n",
    "    Y = X * 2 + np.random.normal(3, .1, [num_data,1])\n",
    "    return X, Y\n",
    "\n",
    "tf.reset_default_graph()\n",
    "text_X, text_Y = generate_sample_data(5)"
   ]
  },
  {
   "cell_type": "code",
   "execution_count": 2,
   "metadata": {
    "collapsed": false
   },
   "outputs": [
    {
     "name": "stdout",
     "output_type": "stream",
     "text": [
      "INFO:tensorflow:Restoring parameters from ./saved_models/linear_regression\n",
      "weight:0\n",
      "weight:0  |  2.56659\n",
      "bias:0\n",
      "bias:0  |  2.40834\n",
      "another_var:0\n",
      "another_var:0  |  0.82558\n",
      "weight/Adagrad:0\n",
      "weight/Adagrad:0  |  580.168\n",
      "bias/Adagrad:0\n",
      "bias/Adagrad:0  |  1892.09\n",
      "print values we have interest\n",
      "weight 2.56659\n",
      "bias 2.40834\n"
     ]
    }
   ],
   "source": [
    "sess = tf.Session()\n",
    "new_saver = tf.train.import_meta_graph(\n",
    "    './saved_models/linear_regression.meta')\n",
    "new_saver.restore(\n",
    "    sess, tf.train.latest_checkpoint('./saved_models'))\n",
    "\n",
    "# no need to initialize vars\n",
    "# init = tf.global_variables_initializer()\n",
    "# sess.run(init)\n",
    "\n",
    "all_vars = tf.get_collection(tf.GraphKeys.GLOBAL_VARIABLES)\n",
    "for v in all_vars:\n",
    "    print(v.name)\n",
    "    v_ = sess.run(v)\n",
    "    print(v.name, ' | ', v_)\n",
    "    \n",
    "# print variables of interest\n",
    "print('print values we have interest')\n",
    "print('weight', sess.run('weight:0'))\n",
    "print('bias', sess.run('bias:0'))\n",
    "    \n",
    "# apply the model to new data\n",
    "# weight = all_vars['weight']\n",
    "# print(weight)\n",
    "# testing_cost = sess.run(cost, feed_dict={X: test_X, Y: test_Y})\n",
    "\n"
   ]
  },
  {
   "cell_type": "code",
   "execution_count": null,
   "metadata": {
    "collapsed": true
   },
   "outputs": [],
   "source": []
  }
 ],
 "metadata": {
  "kernelspec": {
   "display_name": "Python 3",
   "language": "python",
   "name": "python3"
  },
  "language_info": {
   "codemirror_mode": {
    "name": "ipython",
    "version": 3
   },
   "file_extension": ".py",
   "mimetype": "text/x-python",
   "name": "python",
   "nbconvert_exporter": "python",
   "pygments_lexer": "ipython3",
   "version": "3.5.3"
  }
 },
 "nbformat": 4,
 "nbformat_minor": 2
}
