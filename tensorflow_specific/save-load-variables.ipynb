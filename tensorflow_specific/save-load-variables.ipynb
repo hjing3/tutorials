{
 "cells": [
  {
   "cell_type": "code",
   "execution_count": 9,
   "metadata": {
    "collapsed": false
   },
   "outputs": [
    {
     "name": "stdout",
     "output_type": "stream",
     "text": [
      "Save to path:  saved_variables/saved_vars\n",
      "weights: [[-0.15246049 -0.23374878]]\n",
      "biases: [ 1.34025073 -0.60640484  0.28980187]\n",
      "pi: 3.14\n"
     ]
    }
   ],
   "source": [
    "import tensorflow as tf\n",
    "import numpy as np\n",
    "\n",
    "tf.reset_default_graph()\n",
    "\n",
    "weights = tf.Variable(\n",
    "    tf.random_normal([1, 2], stddev=0.35), name=\"weights\")\n",
    "biases = tf.Variable(tf.random_normal([3]), name=\"biases\")\n",
    "pi = tf.Variable(3.14, name='pi')\n",
    "\n",
    "# should be called before sess.run(init)\n",
    "saver = tf.train.Saver()\n",
    "\n",
    "init = tf.global_variables_initializer()\n",
    "\n",
    "with tf.Session() as sess:\n",
    "   sess.run(init)\n",
    "   \n",
    "   w_init = sess.run(weights)\n",
    "   b_init = sess.run(biases)\n",
    "\n",
    "   save_path = saver.save(sess, \"saved_variables/saved_vars\")\n",
    "   print(\"Save to path: \", save_path)\n",
    "\n",
    "   print(\"weights:\", w_init)\n",
    "   print(\"biases:\", b_init)\n",
    "   print('pi:', pi.eval())"
   ]
  },
  {
   "cell_type": "code",
   "execution_count": 14,
   "metadata": {
    "collapsed": false
   },
   "outputs": [
    {
     "name": "stdout",
     "output_type": "stream",
     "text": [
      "INFO:tensorflow:Restoring parameters from saved_variables/saved_vars\n",
      "all vars restored\n",
      "weights:0\n",
      "weights:0  |  [[-0.15246049 -0.23374878]]\n",
      "biases:0\n",
      "biases:0  |  [ 1.34025073 -0.60640484  0.28980187]\n",
      "pi:0\n",
      "pi:0  |  3.14\n",
      "print values we have interest\n",
      "[[-0.15246049 -0.23374878]]\n",
      "[ 1.34025073 -0.60640484  0.28980187]\n",
      "3.14\n",
      "Exception caught\n",
      "<class 'ValueError'>\n",
      "Fetch argument 'w_init' cannot be interpreted as a Tensor. (\"The name 'w_init' refers to an Operation not in the graph.\")\n"
     ]
    }
   ],
   "source": [
    "import tensorflow as tf\n",
    "import numpy as np\n",
    "\n",
    "tf.reset_default_graph()\n",
    "\n",
    "saver = tf.train.import_meta_graph('saved_variables/saved_vars.meta')\n",
    "\n",
    "with tf.Session() as sess:\n",
    "    saver.restore(sess,tf.train.latest_checkpoint('saved_variables'))\n",
    "    \n",
    "    print('all vars restored')\n",
    "    all_vars = tf.get_collection(tf.GraphKeys.GLOBAL_VARIABLES)\n",
    "    for v in all_vars:\n",
    "        print(v.name)\n",
    "        v_ = sess.run(v)\n",
    "        print(v.name, ' | ', v_)\n",
    "        \n",
    "    print('print values we have interest')\n",
    "    print(sess.run('weights:0'))\n",
    "    print(sess.run('biases:0'))\n",
    "    print(sess.run('pi:0'))\n",
    "    \n",
    "    # not tensor, not saved, error\n",
    "    try:\n",
    "        print(sess.run('w_init'))\n",
    "    except Exception as inst:\n",
    "        print('Exception caught')\n",
    "        print(type(inst))    # the exception instance\n",
    "        print(inst)"
   ]
  }
 ],
 "metadata": {
  "kernelspec": {
   "display_name": "Python 3",
   "language": "python",
   "name": "python3"
  },
  "language_info": {
   "codemirror_mode": {
    "name": "ipython",
    "version": 3
   },
   "file_extension": ".py",
   "mimetype": "text/x-python",
   "name": "python",
   "nbconvert_exporter": "python",
   "pygments_lexer": "ipython3",
   "version": "3.5.3"
  }
 },
 "nbformat": 4,
 "nbformat_minor": 2
}
