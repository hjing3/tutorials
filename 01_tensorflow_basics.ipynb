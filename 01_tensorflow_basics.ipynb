{
 "cells": [
  {
   "cell_type": "markdown",
   "metadata": {},
   "source": [
    "Get python and tensorflow version information, and list of devices for tensorflow."
   ]
  },
  {
   "cell_type": "code",
   "execution_count": 2,
   "metadata": {
    "collapsed": false
   },
   "outputs": [
    {
     "name": "stdout",
     "output_type": "stream",
     "text": [
      "3.5.2 |Anaconda custom (64-bit)| (default, Jul  2 2016, 17:53:06) \n",
      "[GCC 4.4.7 20120313 (Red Hat 4.4.7-1)]\n",
      "1.1.0\n",
      "name: \"/cpu:0\"\n",
      "device_type: \"CPU\"\n",
      "memory_limit: 268435456\n",
      "locality {\n",
      "}\n",
      "incarnation: 2300694184092100668\n",
      "\n",
      "name: \"/gpu:0\"\n",
      "device_type: \"GPU\"\n",
      "memory_limit: 103743488\n",
      "locality {\n",
      "  bus_id: 1\n",
      "}\n",
      "incarnation: 11261334425252770220\n",
      "physical_device_desc: \"device: 0, name: GeForce GTX 1050 Ti, pci bus id: 0000:01:00.0\"\n",
      "\n"
     ]
    }
   ],
   "source": [
    "import sys\n",
    "import tensorflow as tf\n",
    "from tensorflow.python.client import device_lib\n",
    "\n",
    "print(sys.version)\n",
    "print(tf.__version__)\n",
    "\n",
    "local_device_protos = device_lib.list_local_devices()\n",
    "for device in local_device_protos:\n",
    "    print(device)"
   ]
  },
  {
   "cell_type": "markdown",
   "metadata": {},
   "source": [
    "Basic operations of scalar values."
   ]
  },
  {
   "cell_type": "code",
   "execution_count": 3,
   "metadata": {
    "collapsed": false
   },
   "outputs": [
    {
     "name": "stdout",
     "output_type": "stream",
     "text": [
      "Addition with constant: 3\n",
      "Addition with variables: 3.0\n",
      "Multiplication with variable and constant: 1.0\n"
     ]
    }
   ],
   "source": [
    "cx = tf.constant(1)\n",
    "cy = tf.constant(2)\n",
    "\n",
    "vx = tf.placeholder(tf.float32)\n",
    "vy = tf.placeholder(tf.float32)\n",
    "\n",
    "cs = tf.add(cx, cy)\n",
    "vs = tf.add(vx, vy)\n",
    "\n",
    "vm = tf.multiply(vx, tf.cast(cx, tf.float32))\n",
    "\n",
    "with tf.Session() as sess:\n",
    "    print(\"Addition with constant: {}\".format(sess.run(cs)))\n",
    "    print(\"Addition with variables: {}\".format(sess.run(vs, feed_dict={vx: 1.0, vy: 2.0})))\n",
    "    print(\"Multiplication with variable and constant: {}\".format(sess.run(vm, feed_dict={vx: 1.0})))"
   ]
  },
  {
   "cell_type": "markdown",
   "metadata": {},
   "source": [
    "Operation of matrices."
   ]
  },
  {
   "cell_type": "code",
   "execution_count": 4,
   "metadata": {
    "collapsed": false
   },
   "outputs": [
    {
     "name": "stdout",
     "output_type": "stream",
     "text": [
      "[[8]]\n"
     ]
    }
   ],
   "source": [
    "mx = tf.constant([[1, 2]])\n",
    "my = tf.constant([[2], [3]])\n",
    "\n",
    "mm = tf.matmul(mx, my)\n",
    "with tf.Session() as sess:\n",
    "    print(mm.eval())"
   ]
  }
 ],
 "metadata": {
  "kernelspec": {
   "display_name": "Python [conda root]",
   "language": "python",
   "name": "conda-root-py"
  },
  "language_info": {
   "codemirror_mode": {
    "name": "ipython",
    "version": 3
   },
   "file_extension": ".py",
   "mimetype": "text/x-python",
   "name": "python",
   "nbconvert_exporter": "python",
   "pygments_lexer": "ipython3",
   "version": "3.5.2"
  }
 },
 "nbformat": 4,
 "nbformat_minor": 2
}
