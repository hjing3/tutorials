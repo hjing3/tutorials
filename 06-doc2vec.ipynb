{
 "cells": [
  {
   "cell_type": "markdown",
   "metadata": {},
   "source": [
    "### https://amsterdam.luminis.eu/2017/02/21/coding-doc2vec/\n",
    "\n",
    "### https://amsterdam.luminis.eu/2017/01/30/implementing-doc2vec/\n",
    "\n",
    "### Fork from https://github.com/luminis-ams/blog-doc2vec/blob/master/pvdbow.ipynb"
   ]
  },
  {
   "cell_type": "code",
   "execution_count": 27,
   "metadata": {
    "collapsed": false
   },
   "outputs": [
    {
     "name": "stdout",
     "output_type": "stream",
     "text": [
      "[nltk_data] Downloading package reuters to\n",
      "[nltk_data]     /usr/local/google/home/haojing/nltk_data...\n",
      "[nltk_data]   Package reuters is already up-to-date!\n",
      "[nltk_data] Downloading package punkt to\n",
      "[nltk_data]     /usr/local/google/home/haojing/nltk_data...\n",
      "[nltk_data]   Package punkt is already up-to-date!\n"
     ]
    }
   ],
   "source": [
    "import collections\n",
    "import re\n",
    "\n",
    "import numpy as np\n",
    "import pandas as pd\n",
    "import tensorflow as tf\n",
    "\n",
    "import nltk\n",
    "from nltk.corpus import reuters\n",
    "from nltk.tokenize import word_tokenize\n",
    "from sklearn.manifold import TSNE\n",
    "from sklearn import svm\n",
    "from sklearn.metrics import classification_report\n",
    "\n",
    "import matplotlib.pyplot as plt\n",
    "%matplotlib inline\n",
    "\n",
    "nltk.download('reuters')\n",
    "nltk.download('punkt')\n",
    "\n",
    "PERCENTAGE_DOCS = 100 # random subsample of Reuters training docs\n",
    "VOCAB_SIZE = 10000\n",
    "REMOVE_TOP_K_TERMS = 100\n",
    "MIN_TERM_FREQ = 5\n",
    "\n",
    "TEXT_WINDOW_SIZE = 8\n",
    "BATCH_SIZE = 10 * TEXT_WINDOW_SIZE\n",
    "EMBEDDING_SIZE = 128\n",
    "SHUFFLE_EVERY_X_EPOCH = 5\n",
    "PV_TEST_SET_PERCENTAGE = 5\n",
    "NUM_STEPS = 100001\n",
    "LEARNING_RATE = 0.1\n",
    "NUM_SAMPLED = 64\n",
    "REPORT_EVERY_X_STEPS = 2000\n",
    "\n",
    "END_TO_END_EVERY_X_STEPS = 30000\n",
    "E2E_TEST_SET_PERCENTAGE = 30\n",
    "TSNE_NUM_DOCS = 400\n",
    "\n",
    "# Token integer ids for special tokens\n",
    "UNK = 0\n",
    "NULL = 1"
   ]
  },
  {
   "cell_type": "code",
   "execution_count": 28,
   "metadata": {
    "collapsed": false
   },
   "outputs": [],
   "source": [
    "\"\"\"\n",
    "Returns an eternal generator, periodically shuffling the order\n",
    "\n",
    "l_ is a list of integers; an internal copy of it is maintained.\n",
    "\"\"\"\n",
    "def repeater_shuffler(l_):\n",
    "    l = np.array(l_, dtype=np.int32)\n",
    "    epoch = 0\n",
    "    while epoch >= 0:\n",
    "        if epoch % SHUFFLE_EVERY_X_EPOCH == 0:\n",
    "            np.random.shuffle(l)\n",
    "        for i in l:\n",
    "            yield i\n",
    "        epoch += 1\n",
    "        \n",
    "        \n",
    "def accept_doc(fileid):\n",
    "    return fileid.startswith('training/') \\\n",
    "            and np.random.random() * 100 < PERCENTAGE_DOCS\n",
    "\n",
    "    \n",
    "def accept(word):\n",
    "    # Accept if not only Unicode non-word characters are present\n",
    "    return re.sub(r'\\W', '', word) != ''\n",
    "\n",
    "\n",
    "def normalize(word):\n",
    "    return word.lower()\n",
    "\n",
    "\n",
    "def build_dataset():\n",
    "    fileid2words = {fileid:\n",
    "            [normalize(word) for word in word_tokenize(\n",
    "                    reuters.raw(fileid)) if accept(word)] \\\n",
    "            for fileid in reuters.fileids() if accept_doc(fileid)}\n",
    "    count = [['__UNK__', 0], ['__NULL__', 0]]\n",
    "    count.extend([(word, count) for word, count in collections.Counter(\n",
    "            [word for words in fileid2words.values() \\\n",
    "            for word in words]).most_common(\n",
    "                    VOCAB_SIZE - 2 + REMOVE_TOP_K_TERMS)[\n",
    "                            REMOVE_TOP_K_TERMS:\n",
    "                    ] if count >= MIN_TERM_FREQ])\n",
    "    assert not set(['__UNK__', '__NULL__']) & set(next(zip(\n",
    "            *count[2:])))\n",
    "    dictionary = {}\n",
    "    for i, (word, _) in enumerate(count):\n",
    "        dictionary[word] = i\n",
    "    reverse_dictionary = dict(zip(dictionary.values(),\n",
    "                                  dictionary.keys()))\n",
    "    data = []\n",
    "    doclens = []\n",
    "    fileids = []\n",
    "    for docid, (fileid, words) in enumerate(fileid2words.items()):\n",
    "        for word in words:\n",
    "            if word in dictionary:\n",
    "                wordid = dictionary[word]\n",
    "            else:\n",
    "                wordid = UNK\n",
    "                count[UNK][1] += 1\n",
    "            data.append((docid, wordid))\n",
    "        # Pad with NULL values if necessary\n",
    "        doclen = len(words)\n",
    "        doclens.append(doclen)\n",
    "        fileids.append(fileid)\n",
    "        if doclen < TEXT_WINDOW_SIZE:\n",
    "            n_nulls = TEXT_WINDOW_SIZE - doclen\n",
    "            data.extend([(docid, NULL)] * n_nulls)\n",
    "            count[NULL][1] += n_nulls\n",
    "    return data, count, doclens, fileids, dictionary, reverse_dictionary"
   ]
  },
  {
   "cell_type": "code",
   "execution_count": 29,
   "metadata": {
    "collapsed": true
   },
   "outputs": [],
   "source": [
    "data, count, doclens, fileids, dictionary, reverse_dictionary = \\\n",
    "        build_dataset()"
   ]
  },
  {
   "cell_type": "code",
   "execution_count": 30,
   "metadata": {
    "collapsed": false
   },
   "outputs": [
    {
     "name": "stdout",
     "output_type": "stream",
     "text": [
      "Number of documents: 7769\n",
      "Number of tokens: 1023352\n",
      "Number of unique tokens: 10000\n",
      "Most common words (+UNK and NULL): [['__UNK__', 524065], ['__NULL__', 244], ('dollar', 1112), ('foreign', 1101), ('rose', 1096)]\n",
      "Least common words: [('22.50', 5), ('typical', 5), ('ufcw', 5), ('manpower', 5), ('deng', 5)]\n",
      "Sample data: [(0, 1114), (0, 0), (0, 537), (0, 0), (0, 616)]\n",
      "Effective vocab size: 10000\n"
     ]
    }
   ],
   "source": [
    "\n",
    "print('Number of documents:', len(set(next(zip(*data)))))\n",
    "print('Number of tokens:', len(data))\n",
    "print('Number of unique tokens:', len(count))\n",
    "assert len(data) == sum([i for _, i in count])\n",
    "print('Most common words (+UNK and NULL):', count[:5])\n",
    "print('Least common words:', count[-5:])\n",
    "print('Sample data:', data[:5])\n",
    "vocab_size = min(VOCAB_SIZE, len(count))\n",
    "print('Effective vocab size:', vocab_size)"
   ]
  },
  {
   "cell_type": "code",
   "execution_count": 31,
   "metadata": {
    "collapsed": false
   },
   "outputs": [
    {
     "data": {
      "text/plain": [
       "count    7769.000000\n",
       "mean      131.691080\n",
       "std       138.805498\n",
       "min         2.000000\n",
       "25%        46.000000\n",
       "50%        87.000000\n",
       "75%       165.000000\n",
       "max      1321.000000\n",
       "dtype: float64"
      ]
     },
     "execution_count": 31,
     "metadata": {},
     "output_type": "execute_result"
    }
   ],
   "source": [
    "pd.Series(doclens).describe()"
   ]
  },
  {
   "cell_type": "code",
   "execution_count": 32,
   "metadata": {
    "collapsed": true
   },
   "outputs": [],
   "source": [
    "def get_text_window_center_positions():\n",
    "    # If TEXT_WINDOW_SIZE is even, then define text_window_center\n",
    "    # as left-of-middle-pair\n",
    "    doc_start_indexes = [0]\n",
    "    last_docid = data[0][0]\n",
    "    \n",
    "    # get starting indexes of docs\n",
    "    for i, (d, _) in enumerate(data):\n",
    "        if d != last_docid:\n",
    "            doc_start_indexes.append(i)\n",
    "            last_docid = d\n",
    "    twcp = []\n",
    "    for i in range(len(doc_start_indexes) - 1):\n",
    "        twcp.extend(list(range(\n",
    "                doc_start_indexes[i] + (TEXT_WINDOW_SIZE - 1) // 2,\n",
    "                doc_start_indexes[i + 1] - TEXT_WINDOW_SIZE // 2\n",
    "                )))\n",
    "    return doc_start_indexes, twcp\n",
    "\n",
    "doc_start_indexes, twcp = get_text_window_center_positions()"
   ]
  },
  {
   "cell_type": "code",
   "execution_count": 33,
   "metadata": {
    "collapsed": false
   },
   "outputs": [
    {
     "name": "stdout",
     "output_type": "stream",
     "text": [
      "[0, 193, 323, 415, 798, 1017, 1069, 1134, 1158, 1204]\n",
      "[3, 4, 5, 6, 7, 8, 9, 10, 11, 12]\n"
     ]
    }
   ],
   "source": [
    "print(doc_start_indexes[:10])\n",
    "print(twcp[:10])"
   ]
  },
  {
   "cell_type": "code",
   "execution_count": 34,
   "metadata": {
    "collapsed": false
   },
   "outputs": [
    {
     "name": "stdout",
     "output_type": "stream",
     "text": [
      "Effective test set percentage: 48446 out of 968950, 5.0%\n"
     ]
    }
   ],
   "source": [
    "def get_train_test():\n",
    "    split_point = len(twcp) * (100 - PV_TEST_SET_PERCENTAGE) // 100\n",
    "    twcp_train = twcp[:split_point]\n",
    "\n",
    "    # Test set data must come from known documents\n",
    "    docids_train = set([data[i][0] for i in twcp_train])\n",
    "    twcp_test = []\n",
    "    for i in twcp[split_point:]:\n",
    "        if data[i][0] in docids_train:\n",
    "            twcp_test.append(i)\n",
    "        else:\n",
    "            twcp_train.append(i)\n",
    "    if len(twcp_test) < (BATCH_SIZE // TEXT_WINDOW_SIZE):\n",
    "        raise ValueError(\n",
    "            'Too little test data, try increasing PV_TEST_SET_PERCENTAGE')\n",
    "    return twcp_train, twcp_test\n",
    "\n",
    "np.random.shuffle(twcp)\n",
    "twcp_train, twcp_test = get_train_test()\n",
    "twcp_train_gen = repeater_shuffler(twcp_train)\n",
    "del twcp # save some memory\n",
    "\n",
    "print('Effective test set percentage: {} out of {}, {:.1f}%'.format(\n",
    "        len(twcp_test), len(twcp_test) + len(twcp_train),\n",
    "        100 * len(twcp_test) / (len(twcp_test) + len(twcp_train))))\n",
    "\n",
    "del twcp_train # save some memory, we use twcp_train_gen from now on\n"
   ]
  },
  {
   "cell_type": "code",
   "execution_count": 36,
   "metadata": {
    "collapsed": true
   },
   "outputs": [],
   "source": [
    "def generate_batch_single_twcp(twcp, i, batch, labels):\n",
    "    tw_start = twcp - (TEXT_WINDOW_SIZE - 1) // 2\n",
    "    tw_end = twcp + TEXT_WINDOW_SIZE // 2 + 1\n",
    "    docids, wordids = zip(*data[tw_start:tw_end])\n",
    "    batch_slice = slice(i * TEXT_WINDOW_SIZE,\n",
    "                        (i+1) * TEXT_WINDOW_SIZE)\n",
    "    batch[batch_slice] = docids\n",
    "    labels[batch_slice, 0] = wordids\n",
    "    \n",
    "def generate_batch(twcp_gen):\n",
    "    batch = np.ndarray(shape=(BATCH_SIZE,), dtype=np.int32)\n",
    "    labels = np.ndarray(shape=(BATCH_SIZE, 1), dtype=np.int32)\n",
    "    for i in range(BATCH_SIZE // TEXT_WINDOW_SIZE):\n",
    "        generate_batch_single_twcp(next(twcp_gen), i, batch, labels)\n",
    "    return batch, labels"
   ]
  },
  {
   "cell_type": "code",
   "execution_count": 46,
   "metadata": {
    "collapsed": false
   },
   "outputs": [
    {
     "name": "stdout",
     "output_type": "stream",
     "text": [
      "Tensor(\"Placeholder_30:0\", shape=(80,), dtype=int32)\n",
      "Tensor(\"Placeholder_31:0\", shape=(80, 1), dtype=int32)\n",
      "Tensor(\"Variable_46/read:0\", shape=(10000, 128), dtype=float32)\n",
      "Tensor(\"Variable_47/read:0\", shape=(10000,), dtype=float32)\n",
      "Tensor(\"embedding_lookup_15:0\", shape=(80, 128), dtype=float32)\n"
     ]
    }
   ],
   "source": [
    "# Input data\n",
    "dataset = tf.placeholder(tf.int32, shape=[BATCH_SIZE])\n",
    "labels = tf.placeholder(tf.int32, shape=[BATCH_SIZE, 1])\n",
    "print(dataset)\n",
    "print(labels)\n",
    "\n",
    "# Weights\n",
    "embeddings = tf.Variable(\n",
    "        tf.random_uniform([len(doclens), EMBEDDING_SIZE],\n",
    "                          -1.0, 1.0))\n",
    "softmax_weights = tf.Variable(\n",
    "        tf.truncated_normal(\n",
    "                [vocab_size, EMBEDDING_SIZE],\n",
    "                stddev=1.0 / np.sqrt(EMBEDDING_SIZE)))\n",
    "softmax_biases = tf.Variable(tf.zeros([vocab_size]))\n",
    "print(softmax_weights)\n",
    "print(softmax_biases)\n",
    "\n",
    "# Model\n",
    "# Look up embeddings for inputs\n",
    "embed = tf.nn.embedding_lookup(embeddings, dataset)\n",
    "print(embed)\n",
    "\n",
    "# Compute the softmax loss, using a sample of the negative\n",
    "# labels each time\n",
    "loss = tf.reduce_mean(\n",
    "        tf.nn.sampled_softmax_loss(\n",
    "                softmax_weights, softmax_biases, labels, embed,\n",
    "                 NUM_SAMPLED, vocab_size))\n",
    "\n",
    "# Optimizer\n",
    "optimizer = tf.train.AdagradOptimizer(LEARNING_RATE).minimize(\n",
    "        loss)\n",
    "\n",
    "# Test loss\n",
    "test_loss = tf.reduce_mean(\n",
    "        tf.nn.sparse_softmax_cross_entropy_with_logits(\n",
    "            labels = labels[:, 0],\n",
    "            logits = tf.matmul(embed, tf.transpose(\n",
    "                          softmax_weights)) + softmax_biases\n",
    "                ))\n",
    "\n",
    "# Normalized embeddings (to use cosine similarity later on)\n",
    "norm = tf.sqrt(tf.reduce_sum(tf.square(embeddings), 1,\n",
    "                              keep_dims=True))\n",
    "normalized_embeddings = embeddings / norm\n",
    "\n",
    "session = tf.Session()\n",
    "session.run(tf.global_variables_initializer())"
   ]
  },
  {
   "cell_type": "code",
   "execution_count": 48,
   "metadata": {
    "collapsed": false
   },
   "outputs": [
    {
     "name": "stdout",
     "output_type": "stream",
     "text": [
      "Most common class in sampled documents: earn\n"
     ]
    }
   ],
   "source": [
    "def get_test_loss():\n",
    "    # We do this in batches, too, to keep memory usage low.\n",
    "    # Since our graph works with a fixed batch size, we\n",
    "    # are lazy and just compute test loss on all batches that\n",
    "    # fit in the test set.\n",
    "    twcp_test_gen = (i for i in twcp_test)\n",
    "    n_batches = (len(twcp_test) * TEXT_WINDOW_SIZE) // BATCH_SIZE\n",
    "    test_l = 0.0\n",
    "    for _ in range(n_batches):\n",
    "        batch_data, batch_labels = generate_batch(twcp_test_gen)\n",
    "        test_l += session.run([test_loss], feed_dict={\n",
    "                dataset: batch_data, labels: batch_labels\n",
    "            })[0]\n",
    "    return test_l / n_batches\n",
    "\n",
    "\n",
    "def train(num_steps):\n",
    "    avg_training_loss = 0\n",
    "    for step in range(num_steps):\n",
    "        batch_data, batch_labels = generate_batch(twcp_train_gen)\n",
    "        _, l = session.run(\n",
    "                [optimizer, loss],\n",
    "                feed_dict={dataset: batch_data, labels: batch_labels})\n",
    "        avg_training_loss += l\n",
    "        if step > 0 and step % REPORT_EVERY_X_STEPS == 0:\n",
    "            avg_training_loss = \\\n",
    "                    avg_training_loss / REPORT_EVERY_X_STEPS\n",
    "            # The average loss is an estimate of the loss over the\n",
    "            # last REPORT_EVERY_X_STEPS batches\n",
    "            print('Average loss at step {:d}: {:.1f}'.format(\n",
    "                    step, avg_training_loss))\n",
    "            avg_training_loss = 0\n",
    "            test_l = get_test_loss()\n",
    "            print('Test loss at step {:d}: {:.1f}'.format(\n",
    "                    step, test_l))\n",
    "            \n",
    "            \n",
    "def get_labels():\n",
    "    most_common_class = collections.Counter(\n",
    "            [c for cs in [reuters.categories(fileid) for fileid in fileids] \\\n",
    "            for c in cs]).most_common(1)[0][0]\n",
    "    print('Most common class in sampled documents:',\n",
    "          most_common_class)\n",
    "    return (\n",
    "            np.array(\n",
    "                    [1 if most_common_class in reuters.categories(\n",
    "                            fileid) else 0 for fileid in fileids], \n",
    "                     dtype=np.int32),\n",
    "            ('other', most_common_class)\n",
    "            )\n",
    "\n",
    "\n",
    "e2e_labels, target_names = get_labels()"
   ]
  },
  {
   "cell_type": "code",
   "execution_count": 49,
   "metadata": {
    "collapsed": false
   },
   "outputs": [],
   "source": [
    "def get_two_d_embeddings(embeddings):\n",
    "    num_points = min(TSNE_NUM_DOCS, len(fileids))\n",
    "    tsne = TSNE(perplexity=30, n_components=2, init='pca', \n",
    "                n_iter=5000)\n",
    "    return tsne.fit_transform(embeddings[0:num_points, :])\n",
    "\n",
    "\n",
    "def plot(embeddings):\n",
    "    fig = plt.figure(figsize=(13, 8))\n",
    "    class_1 = e2e_labels[:embeddings.shape[0]].astype('bool')\n",
    "    plt.plot(embeddings[class_1, 0], embeddings[class_1, 1], \n",
    "             'o', color='purple')\n",
    "    plt.plot(embeddings[~class_1, 0], embeddings[~class_1, 1],\n",
    "             'o', color='lightgrey')\n",
    "    plt.show()\n",
    "    \n",
    "    \n",
    "def get_e2e_train_test():\n",
    "    indices = np.array(range(len(fileids)), dtype=np.int32)\n",
    "    np.random.shuffle(indices)\n",
    "    split_point = len(indices) * (100 - E2E_TEST_SET_PERCENTAGE) \\\n",
    "            // 100\n",
    "    e2e_train =np.array([True if i in indices[:split_point] \\\n",
    "                         else False for i in range(len(fileids))])\n",
    "    return e2e_train\n",
    "\n",
    "e2e_train = get_e2e_train_test()\n",
    "\n",
    "\n"
   ]
  },
  {
   "cell_type": "code",
   "execution_count": 50,
   "metadata": {
    "collapsed": false
   },
   "outputs": [
    {
     "name": "stdout",
     "output_type": "stream",
     "text": [
      "Average loss at step 2000: 4.4\n",
      "Test loss at step 2000: 5.4\n",
      "Average loss at step 4000: 3.2\n",
      "Test loss at step 4000: 5.1\n",
      "Average loss at step 6000: 3.0\n",
      "Test loss at step 6000: 5.0\n",
      "Average loss at step 8000: 2.9\n",
      "Test loss at step 8000: 4.9\n",
      "Average loss at step 10000: 2.9\n",
      "Test loss at step 10000: 4.8\n",
      "Average loss at step 12000: 2.8\n",
      "Test loss at step 12000: 4.8\n",
      "Average loss at step 14000: 2.8\n",
      "Test loss at step 14000: 4.7\n",
      "Average loss at step 16000: 2.7\n",
      "Test loss at step 16000: 4.7\n",
      "Average loss at step 18000: 2.7\n",
      "Test loss at step 18000: 4.7\n",
      "Average loss at step 20000: 2.7\n",
      "Test loss at step 20000: 4.6\n",
      "Average loss at step 22000: 2.6\n",
      "Test loss at step 22000: 4.6\n",
      "Average loss at step 24000: 2.6\n",
      "Test loss at step 24000: 4.6\n",
      "Average loss at step 26000: 2.6\n",
      "Test loss at step 26000: 4.6\n",
      "Average loss at step 28000: 2.6\n",
      "Test loss at step 28000: 4.6\n"
     ]
    },
    {
     "data": {
      "image/png": "[encoded data removed]",
      "text/plain": [
       "<matplotlib.figure.Figure at 0x7f3196324f98>"
      ]
     },
     "metadata": {},
     "output_type": "display_data"
    },
    {
     "name": "stdout",
     "output_type": "stream",
     "text": [
      "             precision    recall  f1-score   support\n",
      "\n",
      "      other       0.66      0.54      0.59      1441\n",
      "       earn       0.42      0.54      0.47       890\n",
      "\n",
      "avg / total       0.57      0.54      0.55      2331\n",
      "\n",
      "Average loss at step 2000: 2.5\n",
      "Test loss at step 2000: 4.5\n",
      "Average loss at step 4000: 2.5\n",
      "Test loss at step 4000: 4.5\n",
      "Average loss at step 6000: 2.5\n",
      "Test loss at step 6000: 4.5\n",
      "Average loss at step 8000: 2.5\n",
      "Test loss at step 8000: 4.5\n",
      "Average loss at step 10000: 2.5\n",
      "Test loss at step 10000: 4.5\n",
      "Average loss at step 12000: 2.5\n",
      "Test loss at step 12000: 4.4\n",
      "Average loss at step 14000: 2.4\n",
      "Test loss at step 14000: 4.4\n",
      "Average loss at step 16000: 2.4\n",
      "Test loss at step 16000: 4.4\n",
      "Average loss at step 18000: 2.4\n",
      "Test loss at step 18000: 4.4\n",
      "Average loss at step 20000: 2.4\n",
      "Test loss at step 20000: 4.4\n",
      "Average loss at step 22000: 2.4\n",
      "Test loss at step 22000: 4.4\n",
      "Average loss at step 24000: 2.4\n",
      "Test loss at step 24000: 4.4\n",
      "Average loss at step 26000: 2.4\n",
      "Test loss at step 26000: 4.4\n",
      "Average loss at step 28000: 2.4\n",
      "Test loss at step 28000: 4.3\n"
     ]
    },
    {
     "data": {
      "image/png": "[encoded data removed]",
      "text/plain": [
       "<matplotlib.figure.Figure at 0x7f316373b588>"
      ]
     },
     "metadata": {},
     "output_type": "display_data"
    },
    {
     "name": "stdout",
     "output_type": "stream",
     "text": [
      "             precision    recall  f1-score   support\n",
      "\n",
      "      other       0.69      0.56      0.62      1441\n",
      "       earn       0.45      0.58      0.51       890\n",
      "\n",
      "avg / total       0.60      0.57      0.58      2331\n",
      "\n",
      "Average loss at step 2000: 2.4\n",
      "Test loss at step 2000: 4.3\n",
      "Average loss at step 4000: 2.3\n",
      "Test loss at step 4000: 4.3\n",
      "Average loss at step 6000: 2.3\n",
      "Test loss at step 6000: 4.3\n",
      "Average loss at step 8000: 2.3\n",
      "Test loss at step 8000: 4.3\n",
      "Average loss at step 10000: 2.3\n",
      "Test loss at step 10000: 4.3\n",
      "Average loss at step 12000: 2.3\n",
      "Test loss at step 12000: 4.3\n",
      "Average loss at step 14000: 2.3\n",
      "Test loss at step 14000: 4.3\n",
      "Average loss at step 16000: 2.3\n",
      "Test loss at step 16000: 4.3\n",
      "Average loss at step 18000: 2.3\n",
      "Test loss at step 18000: 4.3\n",
      "Average loss at step 20000: 2.3\n",
      "Test loss at step 20000: 4.2\n",
      "Average loss at step 22000: 2.3\n",
      "Test loss at step 22000: 4.2\n",
      "Average loss at step 24000: 2.3\n",
      "Test loss at step 24000: 4.2\n",
      "Average loss at step 26000: 2.2\n",
      "Test loss at step 26000: 4.2\n",
      "Average loss at step 28000: 2.2\n",
      "Test loss at step 28000: 4.2\n"
     ]
    },
    {
     "data": {
      "image/png": "[encoded data removed]",
      "text/plain": [
       "<matplotlib.figure.Figure at 0x7f315e1fbc88>"
      ]
     },
     "metadata": {},
     "output_type": "display_data"
    },
    {
     "name": "stdout",
     "output_type": "stream",
     "text": [
      "             precision    recall  f1-score   support\n",
      "\n",
      "      other       0.72      0.61      0.66      1441\n",
      "       earn       0.49      0.62      0.55       890\n",
      "\n",
      "avg / total       0.63      0.61      0.62      2331\n",
      "\n",
      "Average loss at step 2000: 2.2\n",
      "Test loss at step 2000: 4.2\n",
      "Average loss at step 4000: 2.2\n",
      "Test loss at step 4000: 4.2\n",
      "Average loss at step 6000: 2.2\n",
      "Test loss at step 6000: 4.2\n",
      "Average loss at step 8000: 2.2\n",
      "Test loss at step 8000: 4.2\n",
      "Average loss at step 10000: 2.2\n",
      "Test loss at step 10000: 4.2\n"
     ]
    },
    {
     "data": {
      "image/png": "[encoded data removed]",
      "text/plain": [
       "<matplotlib.figure.Figure at 0x7f316610bc18>"
      ]
     },
     "metadata": {},
     "output_type": "display_data"
    },
    {
     "name": "stdout",
     "output_type": "stream",
     "text": [
      "             precision    recall  f1-score   support\n",
      "\n",
      "      other       0.73      0.61      0.66      1441\n",
      "       earn       0.50      0.63      0.56       890\n",
      "\n",
      "avg / total       0.64      0.62      0.62      2331\n",
      "\n"
     ]
    }
   ],
   "source": [
    "\n",
    "def classification_experiment(embeddings):\n",
    "    X = embeddings[e2e_train, :]\n",
    "    y = e2e_labels[e2e_train]\n",
    "    clf = svm.SVC(kernel='linear', class_weight='balanced')\n",
    "    clf.fit(X, y)\n",
    "    predictions = clf.predict(\n",
    "            embeddings[~e2e_train, :])\n",
    "    print(classification_report(\n",
    "            e2e_labels[~e2e_train],\n",
    "            predictions, target_names=target_names))\n",
    "    \n",
    "\n",
    "def end_to_end(num_steps):\n",
    "    train(num_steps)\n",
    "    current_embeddings = session.run(normalized_embeddings)\n",
    "    plot(get_two_d_embeddings(current_embeddings))\n",
    "    classification_experiment(current_embeddings)\n",
    "    \n",
    "\n",
    "def run():\n",
    "    for i in range(NUM_STEPS // END_TO_END_EVERY_X_STEPS):\n",
    "        end_to_end(END_TO_END_EVERY_X_STEPS)\n",
    "    end_to_end(NUM_STEPS % END_TO_END_EVERY_X_STEPS)\n",
    "    \n",
    "\n",
    "run()"
   ]
  }
 ],
 "metadata": {
  "kernelspec": {
   "display_name": "Python 3",
   "language": "python",
   "name": "python3"
  },
  "language_info": {
   "codemirror_mode": {
    "name": "ipython",
    "version": 3
   },
   "file_extension": ".py",
   "mimetype": "text/x-python",
   "name": "python",
   "nbconvert_exporter": "python",
   "pygments_lexer": "ipython3",
   "version": "3.5.2"
  }
 },
 "nbformat": 4,
 "nbformat_minor": 2
}
