{
 "cells": [
  {
   "cell_type": "code",
   "execution_count": 48,
   "metadata": {
    "collapsed": false
   },
   "outputs": [],
   "source": [
    "import tensorflow as tf\n",
    "import numpy as np\n",
    "import matplotlib.pyplot as plt"
   ]
  },
  {
   "cell_type": "code",
   "execution_count": 6,
   "metadata": {
    "collapsed": false
   },
   "outputs": [],
   "source": [
    "train_X = np.random.rand(30, 1)\n",
    "train_Y = train_X * 2 + np.random.normal(3, .1, [30,1])\n",
    "\n",
    "test_X = np.random.rand(10, 1)\n",
    "test_Y = test_X * 2 + np.random.normal(3, .1, [10,1])"
   ]
  },
  {
   "cell_type": "code",
   "execution_count": 7,
   "metadata": {
    "collapsed": false
   },
   "outputs": [],
   "source": [
    "X = tf.placeholder(tf.float32, name='X')\n",
    "Y = tf.placeholder(tf.float32, name='Y')\n",
    "\n",
    "W = tf.Variable(np.random.randn(), name='weight')\n",
    "b = tf.Variable(np.random.randn(), name='bias')"
   ]
  },
  {
   "cell_type": "code",
   "execution_count": 46,
   "metadata": {
    "collapsed": true
   },
   "outputs": [],
   "source": [
    "pred = tf.add(tf.multiply(X, W), b)\n",
    "cost = tf.reduce_mean(tf.pow(pred-Y, 2))\n",
    "optimizer = tf.train.AdagradOptimizer(learning_rate=0.2).minimize(cost)"
   ]
  },
  {
   "cell_type": "code",
   "execution_count": 47,
   "metadata": {
    "collapsed": false,
    "scrolled": false
   },
   "outputs": [
    {
     "name": "stdout",
     "output_type": "stream",
     "text": [
      "Epoch=0, cost-tr=6.998, cost-te=7.013, W=0.435, b=1.121\n",
      "Epoch=3, cost-tr=0.841, cost-te=0.841, W=1.445, b=2.367\n",
      "Epoch=6, cost-tr=0.129, cost-te=0.129, W=1.778, b=2.773\n",
      "Epoch=9, cost-tr=0.026, cost-te=0.028, W=1.905, b=2.925\n",
      "Epoch=12, cost-tr=0.010, cost-te=0.013, W=1.956, b=2.982\n",
      "Epoch=15, cost-tr=0.008, cost-te=0.011, W=1.977, b=3.003\n",
      "Epoch=18, cost-tr=0.007, cost-te=0.010, W=1.987, b=3.010\n",
      "Epoch=21, cost-tr=0.007, cost-te=0.010, W=1.992, b=3.012\n",
      "Epoch=24, cost-tr=0.007, cost-te=0.010, W=1.995, b=3.012\n",
      "Epoch=27, cost-tr=0.007, cost-te=0.010, W=1.998, b=3.012\n",
      "Optimization done\n",
      "Testing cost: 0.010, with w=2.000, b=3.011\n"
     ]
    },
    {
     "data": {
      "image/png": "[encoded data removed]",
      "text/plain": [
       "<matplotlib.figure.Figure at 0x7f6ba7c4d358>"
      ]
     },
     "metadata": {},
     "output_type": "display_data"
    }
   ],
   "source": [
    "init = tf.global_variables_initializer()\n",
    "\n",
    "n_epoches = 30\n",
    "display_epoch = 3\n",
    "with tf.Session() as sess:\n",
    "    sess.run(init)\n",
    "    \n",
    "    for epoch in range(n_epoches):\n",
    "        for (x, y) in zip(train_X, train_Y):\n",
    "            sess.run(optimizer, feed_dict={X: x, Y:y})\n",
    "        if (epoch) % display_epoch == 0:\n",
    "            c_tr = sess.run(cost, feed_dict={X: train_X, Y:train_Y})\n",
    "            c_te = sess.run(cost, feed_dict={X: test_X, Y:test_Y})\n",
    "            print(\"Epoch={}, cost-tr={:.3f}, cost-te={:.3f}, W={:.3f}, b={:.3f}\".format(epoch, c_tr, c_te, W.eval(), b.eval()))\n",
    "\n",
    "    print(\"Optimization done\")\n",
    "    testing_cost = sess.run(cost, feed_dict={X: test_X, Y: test_Y})\n",
    "    print(\"Testing cost: {:.3f}, with w={:.3f}, b={:.3f}\".format(testing_cost, W.eval(), b.eval()))\n",
    "    \n",
    "    fig = plt.figure()\n",
    "    plt.plot(train_X, train_Y, 'ro', label='Original data')\n",
    "    plt.plot(test_X, test_Y, 'bx', label='Testing data')\n",
    "    plt.plot(train_X, sess.run(W) * train_X + sess.run(b))\n",
    "    plt.legend()\n",
    "    plt.show()"
   ]
  }
 ],
 "metadata": {
  "kernelspec": {
   "display_name": "Python 3",
   "language": "python",
   "name": "python3"
  },
  "language_info": {
   "codemirror_mode": {
    "name": "ipython",
    "version": 3
   },
   "file_extension": ".py",
   "mimetype": "text/x-python",
   "name": "python",
   "nbconvert_exporter": "python",
   "pygments_lexer": "ipython3",
   "version": "3.5.3"
  }
 },
 "nbformat": 4,
 "nbformat_minor": 2
}
