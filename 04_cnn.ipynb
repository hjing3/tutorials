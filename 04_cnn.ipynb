{
 "cells": [
  {
   "cell_type": "code",
   "execution_count": 1,
   "metadata": {
    "collapsed": false
   },
   "outputs": [
    {
     "name": "stdout",
     "output_type": "stream",
     "text": [
      "1.0.1\n",
      "3.5.2 |Anaconda 4.3.1 (64-bit)| (default, Jul  2 2016, 17:53:06) \n",
      "[GCC 4.4.7 20120313 (Red Hat 4.4.7-1)]\n"
     ]
    }
   ],
   "source": [
    "import sys\n",
    "%matplotlib inline\n",
    "import matplotlib.pyplot as plt\n",
    "\n",
    "import tensorflow as tf\n",
    "from tensorflow.contrib import learn\n",
    "from tensorflow.contrib.learn.python.learn.estimators import model_fn as model_fn_lib\n",
    "\n",
    "import numpy as np\n",
    "import time\n",
    "from datetime import timedelta\n",
    "import math\n",
    "\n",
    "import util\n",
    "\n",
    "print(tf.__version__)\n",
    "print(sys.version)"
   ]
  },
  {
   "cell_type": "markdown",
   "metadata": {},
   "source": [
    "# Data"
   ]
  },
  {
   "cell_type": "code",
   "execution_count": 2,
   "metadata": {
    "collapsed": false
   },
   "outputs": [
    {
     "name": "stdout",
     "output_type": "stream",
     "text": [
      "Extracting data/MNIST/train-images-idx3-ubyte.gz\n",
      "Extracting data/MNIST/train-labels-idx1-ubyte.gz\n",
      "Extracting data/MNIST/t10k-images-idx3-ubyte.gz\n",
      "Extracting data/MNIST/t10k-labels-idx1-ubyte.gz\n",
      "Size of:\n",
      "- Training-set:\t\t55000\n",
      "- Test-set:\t\t10000\n",
      "- Validation-set:\t5000\n"
     ]
    }
   ],
   "source": [
    "from tensorflow.examples.tutorials.mnist import input_data\n",
    "data = input_data.read_data_sets('data/MNIST/', one_hot=True)\n",
    "\n",
    "print(\"Size of:\")\n",
    "print(\"- Training-set:\\t\\t{}\".format(len(data.train.labels)))\n",
    "print(\"- Test-set:\\t\\t{}\".format(len(data.test.labels)))\n",
    "print(\"- Validation-set:\\t{}\".format(len(data.validation.labels)))"
   ]
  },
  {
   "cell_type": "code",
   "execution_count": 16,
   "metadata": {
    "collapsed": false
   },
   "outputs": [
    {
     "name": "stdout",
     "output_type": "stream",
     "text": [
      "[[ 0.  0.  0. ...,  1.  0.  0.]\n",
      " [ 0.  0.  0. ...,  0.  0.  0.]\n",
      " [ 0.  0.  0. ...,  0.  0.  0.]\n",
      " ..., \n",
      " [ 0.  0.  0. ...,  0.  0.  0.]\n",
      " [ 0.  0.  0. ...,  0.  0.  0.]\n",
      " [ 0.  0.  0. ...,  0.  1.  0.]]\n",
      "[7 3 4 ..., 5 6 8]\n"
     ]
    },
    {
     "data": {
      "image/png": "[encoded data removed]",
      "text/plain": [
       "<matplotlib.figure.Figure at 0x7f7165456128>"
      ]
     },
     "metadata": {},
     "output_type": "display_data"
    }
   ],
   "source": [
    "print(data.train.labels)\n",
    "\n",
    "data.train.cls = np.array([label.argmax() for label in data.train.labels])\n",
    "data.test.cls = np.array([label.argmax() for label in data.test.labels])\n",
    "\n",
    "print(data.train.cls)\n",
    "\n",
    "images = data.test.images[0:9]\n",
    "cls_true = data.test.cls[0:9]\n",
    "\n",
    "util.plot_images(images=images, img_shape=img_shape, cls_true=cls_true)"
   ]
  },
  {
   "cell_type": "code",
   "execution_count": 59,
   "metadata": {
    "collapsed": true
   },
   "outputs": [],
   "source": [
    "# MNIST images are 28*28 in size\n",
    "img_size = 28\n",
    "img_shape = (img_size, img_size)\n",
    "img_size_flat = 28*28\n",
    "\n",
    "# Number of colour channels for the images: 1 channel for gray-scale.\n",
    "num_channels = 1\n",
    "# Number of classes, one class for each of 10 digits.\n",
    "num_classes = 10"
   ]
  },
  {
   "cell_type": "markdown",
   "metadata": {},
   "source": [
    "# Model"
   ]
  },
  {
   "cell_type": "code",
   "execution_count": 60,
   "metadata": {
    "collapsed": true
   },
   "outputs": [],
   "source": [
    "# Convolutional Layer 1.\n",
    "filter_size1 = 5          # Convolution filters are 5 x 5 pixels.\n",
    "num_filters1 = 32         # There are 16 of these filters.\n",
    "\n",
    "# Convolutional Layer 2.\n",
    "filter_size2 = 5          # Convolution filters are 5 x 5 pixels.\n",
    "num_filters2 = 64         # There are 36 of these filters.\n",
    "\n",
    "# Fully-connected layer.\n",
    "fc_size = 128             # Number of neurons in fully-connected layer."
   ]
  },
  {
   "cell_type": "code",
   "execution_count": 82,
   "metadata": {
    "collapsed": false
   },
   "outputs": [
    {
     "name": "stdout",
     "output_type": "stream",
     "text": [
      "Tensor(\"x_15:0\", shape=(?, 784), dtype=float32)\n",
      "Tensor(\"Reshape_61:0\", shape=(?, 28, 28, 1), dtype=float32)\n",
      "Tensor(\"Placeholder_13:0\", dtype=float32)\n"
     ]
    }
   ],
   "source": [
    "# Input image. The size is 28*28=784, which is img_size_flat\n",
    "x = tf.placeholder(tf.float32, shape=[None, img_size_flat], name='x')\n",
    "y = tf.placeholder(tf.float32, shape=[None, num_classes], name='y_true')\n",
    "y_cls = tf.argmax(y_true, dimension=1)\n",
    "keep_prob = tf.placeholder(tf.float32)\n",
    "learning_rate = 0.01\n",
    "dropout = 0.75\n",
    "\n",
    "batch_size = 32\n",
    "\n",
    "display_step = 100\n",
    "training_iters = 100000\n",
    "\n",
    "x_image = tf.reshape(x, [-1, 28, 28, 1])\n",
    "print(x)\n",
    "print(x_image)\n",
    "print(keep_prob)"
   ]
  },
  {
   "cell_type": "code",
   "execution_count": 79,
   "metadata": {
    "collapsed": true
   },
   "outputs": [],
   "source": [
    "def conv2d(x, weights, biases, strides=1):\n",
    "    x = tf.nn.conv2d(x, weights, strides=[1, strides, strides, 1], padding='SAME')\n",
    "    x = tf.nn.bias_add(x, biases)\n",
    "    return tf.nn.relu(x)\n",
    "\n",
    "def maxpool2d(x, k=2):\n",
    "    return tf.nn.max_pool(x, ksize=[1, k, k, 1], strides=[1, k, k, 1], padding='SAME')\n",
    "\n",
    "def conv_net(x, weights, biases, dropout):\n",
    "    x = tf.reshape(x, shape=([-1, img_size, img_size, 1]))\n",
    "    \n",
    "    # conv layer 1\n",
    "    conv1 = conv2d(x, weights['wc1'], biases['bc1'])\n",
    "    conv1 = maxpool2d(conv1, k=2)\n",
    "    \n",
    "    # conv layer 2\n",
    "    conv2 = conv2d(conv1, weights['wc2'], biases['bc2'])\n",
    "    conv2 = maxpool2d(conv2, k=2)\n",
    "    \n",
    "    # fully connected layer\n",
    "    fc1 = tf.reshape(conv2, [-1, weights['wd1'].get_shape().as_list()[0]])\n",
    "    fc1 = tf.add(tf.matmul(fc1, weights['wd1']), biases['bd1'])\n",
    "    fc1 = tf.nn.relu(fc1)\n",
    "    # Apply Dropout\n",
    "    fc1 = tf.nn.dropout(fc1, dropout)\n",
    "\n",
    "    # Output, class prediction\n",
    "    out = tf.add(tf.matmul(fc1, weights['out']), biases['out'])\n",
    "    return out"
   ]
  },
  {
   "cell_type": "code",
   "execution_count": 84,
   "metadata": {
    "collapsed": false,
    "scrolled": true
   },
   "outputs": [],
   "source": [
    "# Store layers weight & bias\n",
    "weights = {\n",
    "    # 5x5 conv, 1 input, 32 outputs\n",
    "    'wc1': tf.Variable(tf.random_normal([5, 5, 1, 32])),\n",
    "    # 5x5 conv, 32 inputs, 64 outputs\n",
    "    'wc2': tf.Variable(tf.random_normal([5, 5, 32, 64])),\n",
    "    # fully connected, 7*7*64 inputs, 1024 outputs\n",
    "    'wd1': tf.Variable(tf.random_normal([7*7*64, 1024])),\n",
    "    # 1024 inputs, 10 outputs (class prediction)\n",
    "    'out': tf.Variable(tf.random_normal([1024, num_classes]))\n",
    "}\n",
    "\n",
    "biases = {\n",
    "    'bc1': tf.Variable(tf.random_normal([32])),\n",
    "    'bc2': tf.Variable(tf.random_normal([64])),\n",
    "    'bd1': tf.Variable(tf.random_normal([1024])),\n",
    "    'out': tf.Variable(tf.random_normal([num_classes]))\n",
    "}\n",
    "\n",
    "# Construct model\n",
    "pred = conv_net(x, weights, biases, keep_prob)\n",
    "\n",
    "# Define loss and optimizer\n",
    "cost = tf.reduce_mean(tf.nn.softmax_cross_entropy_with_logits(logits=pred, labels=y))\n",
    "optimizer = tf.train.AdamOptimizer(learning_rate=learning_rate).minimize(cost)\n",
    "\n",
    "# Evaluate model\n",
    "correct_pred = tf.equal(tf.argmax(pred, 1), tf.argmax(y, 1))\n",
    "accuracy = tf.reduce_mean(tf.cast(correct_pred, tf.float32))\n",
    "\n",
    "# Initializing the variables\n",
    "init = tf.global_variables_initializer()"
   ]
  },
  {
   "cell_type": "code",
   "execution_count": 85,
   "metadata": {
    "collapsed": false
   },
   "outputs": [
    {
     "name": "stdout",
     "output_type": "stream",
     "text": [
      "Iter 3200, Minibatch Loss= 341.422363, Training Accuracy= 0.81250\n",
      "Iter 6400, Minibatch Loss= 112.302658, Training Accuracy= 0.90625\n",
      "Iter 9600, Minibatch Loss= 135.322128, Training Accuracy= 0.93750\n",
      "Iter 12800, Minibatch Loss= 34.130959, Training Accuracy= 0.93750\n",
      "Iter 16000, Minibatch Loss= 87.089417, Training Accuracy= 0.90625\n",
      "Iter 19200, Minibatch Loss= 9.699417, Training Accuracy= 0.96875\n",
      "Iter 22400, Minibatch Loss= 13.439247, Training Accuracy= 0.96875\n",
      "Iter 25600, Minibatch Loss= 60.595459, Training Accuracy= 0.96875\n",
      "Iter 28800, Minibatch Loss= 222.713425, Training Accuracy= 0.90625\n",
      "Iter 32000, Minibatch Loss= 0.000000, Training Accuracy= 1.00000\n",
      "Iter 35200, Minibatch Loss= 22.445435, Training Accuracy= 0.96875\n",
      "Iter 38400, Minibatch Loss= 20.038101, Training Accuracy= 0.96875\n",
      "Iter 41600, Minibatch Loss= 0.000000, Training Accuracy= 1.00000\n",
      "Iter 44800, Minibatch Loss= 62.101635, Training Accuracy= 0.93750\n",
      "Iter 48000, Minibatch Loss= 0.000000, Training Accuracy= 1.00000\n",
      "Iter 51200, Minibatch Loss= 38.788334, Training Accuracy= 0.93750\n",
      "Iter 54400, Minibatch Loss= 0.000000, Training Accuracy= 1.00000\n",
      "Iter 57600, Minibatch Loss= 0.000000, Training Accuracy= 1.00000\n",
      "Iter 60800, Minibatch Loss= 48.201172, Training Accuracy= 0.96875\n",
      "Iter 64000, Minibatch Loss= 0.000000, Training Accuracy= 1.00000\n",
      "Iter 67200, Minibatch Loss= 12.799889, Training Accuracy= 0.93750\n",
      "Iter 70400, Minibatch Loss= 0.000000, Training Accuracy= 1.00000\n",
      "Iter 73600, Minibatch Loss= 15.676041, Training Accuracy= 0.93750\n",
      "Iter 76800, Minibatch Loss= 0.000000, Training Accuracy= 1.00000\n",
      "Iter 80000, Minibatch Loss= 192.056335, Training Accuracy= 0.84375\n",
      "Iter 83200, Minibatch Loss= 0.000000, Training Accuracy= 1.00000\n",
      "Iter 86400, Minibatch Loss= 21.932076, Training Accuracy= 0.96875\n",
      "Iter 89600, Minibatch Loss= 0.000000, Training Accuracy= 1.00000\n",
      "Iter 92800, Minibatch Loss= 0.000000, Training Accuracy= 1.00000\n",
      "Iter 96000, Minibatch Loss= 0.000000, Training Accuracy= 1.00000\n",
      "Iter 99200, Minibatch Loss= 13.240021, Training Accuracy= 0.96875\n",
      "Optimization Finished!\n",
      "Testing Accuracy: 0.976562\n"
     ]
    }
   ],
   "source": [
    "# Launch the graph\n",
    "\n",
    "with tf.Session() as sess:\n",
    "    sess.run(init)\n",
    "    step = 1\n",
    "    # Keep training until reach max iterations\n",
    "    while step * batch_size < training_iters:\n",
    "        batch_x, batch_y = data.train.next_batch(batch_size)\n",
    "        # Run optimization op (backprop)\n",
    "        sess.run(optimizer, feed_dict={x: batch_x, y: batch_y,\n",
    "                                       keep_prob: dropout})\n",
    "        if step % display_step == 0:\n",
    "            # Calculate batch loss and accuracy\n",
    "            loss, acc = sess.run([cost, accuracy], feed_dict={x: batch_x,\n",
    "                                                              y: batch_y,\n",
    "                                                              keep_prob: 1.})\n",
    "            print(\"Iter \" + str(step*batch_size) + \", Minibatch Loss= \" + \\\n",
    "                  \"{:.6f}\".format(loss) + \", Training Accuracy= \" + \\\n",
    "                  \"{:.5f}\".format(acc))\n",
    "        step += 1\n",
    "    print(\"Optimization Finished!\")\n",
    "\n",
    "    # Calculate accuracy for 256 mnist test images\n",
    "    print(\"Testing Accuracy:\", \\\n",
    "        sess.run(accuracy, feed_dict={x: data.test.images[:256],\n",
    "                                      y: data.test.labels[:256],\n",
    "                                      keep_prob: 1.}))"
   ]
  },
  {
   "cell_type": "code",
   "execution_count": null,
   "metadata": {
    "collapsed": true
   },
   "outputs": [],
   "source": []
  }
 ],
 "metadata": {
  "kernelspec": {
   "display_name": "Python 3",
   "language": "python",
   "name": "python3"
  },
  "language_info": {
   "codemirror_mode": {
    "name": "ipython",
    "version": 3
   },
   "file_extension": ".py",
   "mimetype": "text/x-python",
   "name": "python",
   "nbconvert_exporter": "python",
   "pygments_lexer": "ipython3",
   "version": "3.5.2"
  }
 },
 "nbformat": 4,
 "nbformat_minor": 2
}
